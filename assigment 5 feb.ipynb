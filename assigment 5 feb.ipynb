{
 "cells": [
  {
   "cell_type": "code",
   "execution_count": 1,
   "id": "d89309d4-c28c-4c8f-9e6e-d73e25443e45",
   "metadata": {},
   "outputs": [],
   "source": [
    "#Q1. Explain Class and Object with respect to Object-Oriented Programming. Give a suitable example."
   ]
  },
  {
   "cell_type": "code",
   "execution_count": 2,
   "id": "1aa999f1-c295-4856-bb7c-415e7b989e20",
   "metadata": {},
   "outputs": [],
   "source": [
    "# In object oriented programming ,class is the classification of real world entity .\n",
    "#object is a component of a program that knows how to perform certain actions and how to interact with otherelements of the program. Objects are the basic units of object-oriented programming\n",
    "#example\n",
    "class pwskills1 :\n",
    "    def __init__(self , phone_number , email_id , student_id):\n",
    "        self.phone_number = phone_number\n",
    "        self.email_id = email_id\n",
    "        self.student_id = student_id\n",
    "        \n",
    "    def return_student_deetails(self) :\n",
    "        return self.student_id,self.email_id , self.phone_number"
   ]
  },
  {
   "cell_type": "code",
   "execution_count": 3,
   "id": "ac858433-1da1-4d2d-831a-13055db89be2",
   "metadata": {},
   "outputs": [],
   "source": [
    "#Q2. Name the four pillars of OOPs."
   ]
  },
  {
   "cell_type": "code",
   "execution_count": 4,
   "id": "302c8c83-e0be-4c4a-89ad-2f4444f8a698",
   "metadata": {},
   "outputs": [],
   "source": [
    "#Abstraction\n",
    "#Encapsulation\n",
    "#Inheritance\n",
    "#Polymorphism"
   ]
  },
  {
   "cell_type": "code",
   "execution_count": 5,
   "id": "6034e8d7-992d-41a0-8281-6b13f469bcf0",
   "metadata": {},
   "outputs": [],
   "source": [
    "#Q3. Explain why the __init__() function is used. Give a suitable example."
   ]
  },
  {
   "cell_type": "code",
   "execution_count": 9,
   "id": "9b84c3e9-4d02-44ed-9318-c7b7af671f6d",
   "metadata": {},
   "outputs": [
    {
     "name": "stdout",
     "output_type": "stream",
     "text": [
      "John\n",
      "36\n"
     ]
    }
   ],
   "source": [
    "#__init__() function is used because when we have to pass the data in  a class . __init__() function act as a  contructor.\n",
    "#example \n",
    "class Person:\n",
    "  def __init__(self, name, age):\n",
    "    self.name = name\n",
    "    self.age = age\n",
    "\n",
    "p1 = Person(\"John\", 36)\n",
    "\n",
    "print(p1.name)\n",
    "print(p1.age)"
   ]
  },
  {
   "cell_type": "code",
   "execution_count": 10,
   "id": "4a8cd3f4-9cc0-4d08-85e7-4b76e1c0f958",
   "metadata": {},
   "outputs": [],
   "source": [
    "#Q4. Why self is used in OOPs?\n"
   ]
  },
  {
   "cell_type": "code",
   "execution_count": 11,
   "id": "4788535d-93e2-4eb4-b718-d1d1b730f832",
   "metadata": {},
   "outputs": [],
   "source": [
    "# self represents the instance of the class. By using the “self”  we can access the attributes and methods of the class in python. It binds the attributes with the given arguments.\n",
    "# self is not a reserved its just pointing to the object in a class ."
   ]
  },
  {
   "cell_type": "code",
   "execution_count": 12,
   "id": "b892cef3-f52d-4ed2-b223-aaeca41f4026",
   "metadata": {},
   "outputs": [],
   "source": [
    "#Q5. What is inheritance? Give an example for each type of inheritance."
   ]
  },
  {
   "cell_type": "code",
   "execution_count": 2,
   "id": "b8c86cf1-a086-41ee-b021-b9a5edc93ae6",
   "metadata": {},
   "outputs": [
    {
     "name": "stdout",
     "output_type": "stream",
     "text": [
      "This function is in parent class.\n",
      "This function is in child class.\n"
     ]
    }
   ],
   "source": [
    "#Python is an Object-Oriented Programming language and one of the features of Object-Oriented Programming is Inheritance.\n",
    "#inheritance is the ability of one class to inherit another class.\n",
    "#example of single inheritence\n",
    "class Parent:\n",
    "    def func1(self):\n",
    "        print(\"This function is in parent class.\")\n",
    " \n",
    "# Derived class\n",
    " \n",
    " \n",
    "class Child(Parent):\n",
    "    def func2(self):\n",
    "        print(\"This function is in child class.\")\n",
    " \n",
    " \n",
    "# Driver's code\n",
    "object = Child()\n",
    "object.func1()\n",
    "object.func2()\n",
    "\n",
    "#multiple inheritence\n",
    "class Mother:\n",
    "    mothername = \"\"\n",
    " \n",
    "    def mother(self):\n",
    "        print(self.mothername)\n",
    " \n",
    "# Base class2\n",
    " \n",
    " \n",
    "class Father:\n",
    "    fathername = \"\"\n",
    " \n",
    "    def father(self):\n",
    "        print(self.fathername)\n",
    " \n",
    "#"
   ]
  },
  {
   "cell_type": "code",
   "execution_count": null,
   "id": "be43f5ef-8303-408e-a3a9-d8220629a5a1",
   "metadata": {},
   "outputs": [],
   "source": []
  }
 ],
 "metadata": {
  "kernelspec": {
   "display_name": "Python 3 (ipykernel)",
   "language": "python",
   "name": "python3"
  },
  "language_info": {
   "codemirror_mode": {
    "name": "ipython",
    "version": 3
   },
   "file_extension": ".py",
   "mimetype": "text/x-python",
   "name": "python",
   "nbconvert_exporter": "python",
   "pygments_lexer": "ipython3",
   "version": "3.10.8"
  }
 },
 "nbformat": 4,
 "nbformat_minor": 5
}
